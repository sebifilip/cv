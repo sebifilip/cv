{
  "nbformat": 4,
  "nbformat_minor": 0,
  "metadata": {
    "colab": {
      "name": "Coding_exercise147.ipynb",
      "provenance": [],
      "collapsed_sections": [],
      "authorship_tag": "ABX9TyM/jL223l9gALlj0zA7gXXc",
      "include_colab_link": true
    },
    "kernelspec": {
      "name": "python3",
      "display_name": "Python 3"
    },
    "language_info": {
      "name": "python"
    }
  },
  "cells": [
    {
      "cell_type": "markdown",
      "metadata": {
        "id": "view-in-github",
        "colab_type": "text"
      },
      "source": [
        "<a href=\"https://colab.research.google.com/github/sebifilip/cv/blob/main/Coding_exercise147.ipynb\" target=\"_parent\"><img src=\"https://colab.research.google.com/assets/colab-badge.svg\" alt=\"Open In Colab\"/></a>"
      ]
    },
    {
      "cell_type": "code",
      "metadata": {
        "id": "zsHYBOcv8twY",
        "colab": {
          "base_uri": "https://localhost:8080/"
        },
        "outputId": "42b9f2c8-e95e-44ef-86a3-53b825d3e1e7"
      },
      "source": [
        "import uuid\n",
        "\n",
        "\n",
        "class Product:\n",
        "\n",
        "    def __init__(self, product_name, price):\n",
        "        self.product_id = self.get_id()\n",
        "        self.product_name = product_name\n",
        "        self.price = price\n",
        "\n",
        "    def __repr__(self):\n",
        "        return f\"Product(product_name='{self.product_name}', price={self.price})\"\n",
        "\n",
        "    @staticmethod\n",
        "    def get_id():\n",
        "        return str(uuid.uuid4().fields[-1])[:6]\n",
        "\n",
        "\n",
        "class Warehouse:\n",
        "\n",
        "    def __init__(self):\n",
        "        self.products = []\n",
        "\n",
        "    def add_product(self, product_name, price):\n",
        "        product_names = [product.product_name for product in self.products]\n",
        "        if not product_name in product_names:\n",
        "            self.products.append(Product(product_name, price))\n",
        " \n",
        " \n",
        "warehouse = Warehouse()\n",
        "warehouse.add_product('Laptop', 3900.0)\n",
        "warehouse.add_product('Mobile Phone', 1990.0)\n",
        "print(warehouse.products)"
      ],
      "execution_count": 2,
      "outputs": [
        {
          "output_type": "stream",
          "text": [
            "[Product(product_name='Laptop', price=3900.0), Product(product_name='Mobile Phone', price=1990.0)]\n"
          ],
          "name": "stdout"
        }
      ]
    }
  ]
}