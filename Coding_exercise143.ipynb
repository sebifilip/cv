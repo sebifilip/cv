{
  "nbformat": 4,
  "nbformat_minor": 0,
  "metadata": {
    "colab": {
      "name": "Coding_exercise143.ipynb",
      "provenance": [],
      "authorship_tag": "ABX9TyOL3+8ZMO6MWCMfJ6jNnBs9",
      "include_colab_link": true
    },
    "kernelspec": {
      "name": "python3",
      "display_name": "Python 3"
    },
    "language_info": {
      "name": "python"
    }
  },
  "cells": [
    {
      "cell_type": "markdown",
      "metadata": {
        "id": "view-in-github",
        "colab_type": "text"
      },
      "source": [
        "<a href=\"https://colab.research.google.com/github/sebifilip/cv/blob/main/Coding_exercise143.ipynb\" target=\"_parent\"><img src=\"https://colab.research.google.com/assets/colab-badge.svg\" alt=\"Open In Colab\"/></a>"
      ]
    },
    {
      "cell_type": "code",
      "metadata": {
        "id": "NcyhqyAJ1R1S"
      },
      "source": [
        "class CustomDict(dict):\n",
        " \n",
        "    def is_any_str_value(self):\n",
        "        flag = False\n",
        "        for key in self:\n",
        "            if isinstance(self[key], str):\n",
        "                flag = True\n",
        "                break\n",
        "        return flag"
      ],
      "execution_count": 1,
      "outputs": []
    }
  ]
}