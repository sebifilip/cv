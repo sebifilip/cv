{
  "nbformat": 4,
  "nbformat_minor": 0,
  "metadata": {
    "colab": {
      "name": "Coding_exercise144.ipynb",
      "provenance": [],
      "collapsed_sections": [],
      "authorship_tag": "ABX9TyMELCiNeEOGev6XJ3JtDmdf",
      "include_colab_link": true
    },
    "kernelspec": {
      "name": "python3",
      "display_name": "Python 3"
    },
    "language_info": {
      "name": "python"
    }
  },
  "cells": [
    {
      "cell_type": "markdown",
      "metadata": {
        "id": "view-in-github",
        "colab_type": "text"
      },
      "source": [
        "<a href=\"https://colab.research.google.com/github/sebifilip/cv/blob/main/Coding_exercise144.ipynb\" target=\"_parent\"><img src=\"https://colab.research.google.com/assets/colab-badge.svg\" alt=\"Open In Colab\"/></a>"
      ]
    },
    {
      "cell_type": "code",
      "metadata": {
        "colab": {
          "base_uri": "https://localhost:8080/"
        },
        "id": "gdRQX9_e10jU",
        "outputId": "5b96b723-92c8-4e58-9253-1b112fa61eaf"
      },
      "source": [
        "class StringListOnly(list):\n",
        "    \n",
        "    def append(self, string):\n",
        "        if not isinstance(string, str):\n",
        "            raise TypeError('Only objects of type str can be added to the list.')\n",
        "        super().append(string)\n",
        " \n",
        " \n",
        "slo = StringListOnly()\n",
        "slo.append('Data')\n",
        "slo.append('Science')\n",
        "print(slo)"
      ],
      "execution_count": 1,
      "outputs": [
        {
          "output_type": "stream",
          "text": [
            "['Data', 'Science']\n"
          ],
          "name": "stdout"
        }
      ]
    }
  ]
}