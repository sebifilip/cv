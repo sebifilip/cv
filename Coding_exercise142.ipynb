{
  "nbformat": 4,
  "nbformat_minor": 0,
  "metadata": {
    "colab": {
      "name": "Coding_exercise142.ipynb",
      "provenance": [],
      "collapsed_sections": [],
      "authorship_tag": "ABX9TyO7PbhzvTXzwK7nGK46y+fi",
      "include_colab_link": true
    },
    "kernelspec": {
      "name": "python3",
      "display_name": "Python 3"
    },
    "language_info": {
      "name": "python"
    }
  },
  "cells": [
    {
      "cell_type": "markdown",
      "metadata": {
        "id": "view-in-github",
        "colab_type": "text"
      },
      "source": [
        "<a href=\"https://colab.research.google.com/github/sebifilip/cv/blob/main/Coding_exercise142.ipynb\" target=\"_parent\"><img src=\"https://colab.research.google.com/assets/colab-badge.svg\" alt=\"Open In Colab\"/></a>"
      ]
    },
    {
      "cell_type": "code",
      "metadata": {
        "colab": {
          "base_uri": "https://localhost:8080/"
        },
        "id": "mRgpBiJHxetT",
        "outputId": "67455612-2fe9-40cd-c64e-aeededf646db"
      },
      "source": [
        "class ClientList(list):\n",
        "\n",
        "    def search_email(self, value):\n",
        "        result = [client for client in self if value in client.email]\n",
        "        return result\n",
        "\n",
        "class Client:\n",
        "\n",
        "    all_clients = ClientList()\n",
        "\n",
        "    def __init__(self, name, email):\n",
        "        self.name = name\n",
        "        self.email = email\n",
        "        Client.all_clients.append(self)\n",
        "\n",
        "    def __repr__(self):\n",
        "        return f\"Client(name='{self.name}', email='{self.email}')\"\n",
        "\n",
        "\n",
        "client1 = Client('Tom', 'sample@gmail.com')\n",
        "client2 = Client('Donald', 'sales@gmail.com')\n",
        "client3 = Client('Mike', 'sales@yahoo.com')\n",
        "client4 = Client('Lisa', 'info@gmail.com')\n",
        "\n",
        "result = [client.name for client in Client.all_clients.search_email('sales')]\n",
        "print(result)\n"
      ],
      "execution_count": 11,
      "outputs": [
        {
          "output_type": "stream",
          "text": [
            "['Donald', 'Mike']\n"
          ],
          "name": "stdout"
        }
      ]
    }
  ]
}