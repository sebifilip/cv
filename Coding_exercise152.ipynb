{
  "nbformat": 4,
  "nbformat_minor": 0,
  "metadata": {
    "colab": {
      "name": "Coding_exercise152.ipynb",
      "provenance": [],
      "authorship_tag": "ABX9TyPeIqTUdcPHhLVZu7WcPO6w",
      "include_colab_link": true
    },
    "kernelspec": {
      "name": "python3",
      "display_name": "Python 3"
    },
    "language_info": {
      "name": "python"
    }
  },
  "cells": [
    {
      "cell_type": "markdown",
      "metadata": {
        "id": "view-in-github",
        "colab_type": "text"
      },
      "source": [
        "<a href=\"https://colab.research.google.com/github/sebifilip/cv/blob/main/Coding_exercise152.ipynb\" target=\"_parent\"><img src=\"https://colab.research.google.com/assets/colab-badge.svg\" alt=\"Open In Colab\"/></a>"
      ]
    },
    {
      "cell_type": "code",
      "metadata": {
        "id": "wSS6yDGcYGBE"
      },
      "source": [
        "import uuid\n",
        "\n",
        "\n",
        "class Product:\n",
        "\n",
        "    def __init__(self, product_name, price):\n",
        "        self.product_id = self.get_id()\n",
        "        self.product_name = product_name\n",
        "        self.price = price\n",
        "\n",
        "    def __repr__(self):\n",
        "        return f\"Product(product_name='{self.product_name}', price={self.price})\"\n",
        "\n",
        "    @staticmethod\n",
        "    def get_id():\n",
        "        return str(uuid.uuid4().fields[-1])[:6]\n",
        "\n",
        "\n",
        "class Warehouse:\n",
        "\n",
        "    def __init__(self):\n",
        "        self.products = []\n",
        "\n",
        "    def add_product(self, product_name, price):\n",
        "        product_names = [product.product_name for product in self.products]\n",
        "        if not product_name in product_names:\n",
        "            self.products.append(Product(product_name, price))\n",
        "\n",
        "    def remove_product(self, product_name):\n",
        "        for product in self.products:\n",
        "            if product_name == product.product_name:\n",
        "                self.products.remove(product)\n",
        "\n",
        "    def display_products(self):\n",
        "        for product in self.products:\n",
        "            print(f'Product ID: {product.product_id} | Product name: '\n",
        "                  f'{product.product_name} | Price: {product.price}') \n",
        "\n",
        "    def sort_by_price(self, ascending=True):\n",
        "        return sorted(self.products, key=lambda product: product.price,\n",
        "                      reverse=not ascending)\n",
        "        \n",
        "    def search_product(self, query):\n",
        "        pass"
      ],
      "execution_count": null,
      "outputs": []
    }
  ]
}